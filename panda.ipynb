{
 "cells": [
  {
   "cell_type": "code",
   "execution_count": 2,
   "metadata": {},
   "outputs": [],
   "source": [
    "import pandas as pd\n",
    "import matplotlib as plt\n",
    "import numpy as np\n",
    "import seaborn as sb\n",
    "import time"
   ]
  },
  {
   "cell_type": "code",
   "execution_count": 4,
   "metadata": {},
   "outputs": [
    {
     "name": "stdout",
     "output_type": "stream",
     "text": [
      "     Country  Year         Disease Name Disease Category  Prevalence Rate (%)  \\\n",
      "0      Italy  2013              Malaria      Respiratory                 0.95   \n",
      "1     France  2002                Ebola        Parasitic                12.46   \n",
      "2     Turkey  2015             COVID-19          Genetic                 0.91   \n",
      "3  Indonesia  2011  Parkinson's Disease       Autoimmune                 4.68   \n",
      "4      Italy  2013         Tuberculosis          Genetic                 0.83   \n",
      "\n",
      "   Incidence Rate (%)  Mortality Rate (%) Age Group Gender  \\\n",
      "0                1.55                8.42      0-18   Male   \n",
      "1                8.63                8.75       61+   Male   \n",
      "2                2.35                6.22     36-60   Male   \n",
      "3                6.29                3.99      0-18  Other   \n",
      "4               13.59                7.01       61+   Male   \n",
      "\n",
      "   Population Affected  ...  Hospital Beds per 1000  Treatment Type  \\\n",
      "0               471007  ...                    7.58      Medication   \n",
      "1               634318  ...                    5.11         Surgery   \n",
      "2               154878  ...                    3.49     Vaccination   \n",
      "3               446224  ...                    8.44         Surgery   \n",
      "4               472908  ...                    5.90      Medication   \n",
      "\n",
      "   Average Treatment Cost (USD) Availability of Vaccines/Treatment  \\\n",
      "0                         21064                                 No   \n",
      "1                         47851                                Yes   \n",
      "2                         27834                                Yes   \n",
      "3                           144                                Yes   \n",
      "4                          8908                                Yes   \n",
      "\n",
      "   Recovery Rate (%) DALYs  Improvement in 5 Years (%)  \\\n",
      "0              91.82  4493                        2.16   \n",
      "1              76.65  2366                        4.82   \n",
      "2              98.55    41                        5.81   \n",
      "3              67.35  3201                        2.22   \n",
      "4              50.06  2832                        6.93   \n",
      "\n",
      "   Per Capita Income (USD)  Education Index  Urbanization Rate (%)  \n",
      "0                    16886             0.79                  86.02  \n",
      "1                    80639             0.74                  45.52  \n",
      "2                    12245             0.41                  40.20  \n",
      "3                    49336             0.49                  58.47  \n",
      "4                    47701             0.50                  48.14  \n",
      "\n",
      "[5 rows x 22 columns]\n"
     ]
    }
   ],
   "source": [
    "health_df = pd.read_csv('datasets/health.csv')\n",
    "\n",
    "print(health_df.head())"
   ]
  },
  {
   "cell_type": "code",
   "execution_count": 10,
   "metadata": {},
   "outputs": [
    {
     "name": "stdout",
     "output_type": "stream",
     "text": [
      "<class 'pandas.core.frame.DataFrame'>\n",
      "RangeIndex: 1000000 entries, 0 to 999999\n",
      "Data columns (total 22 columns):\n",
      " #   Column                              Non-Null Count    Dtype  \n",
      "---  ------                              --------------    -----  \n",
      " 0   Country                             1000000 non-null  object \n",
      " 1   Year                                1000000 non-null  int64  \n",
      " 2   Disease Name                        1000000 non-null  object \n",
      " 3   Disease Category                    1000000 non-null  object \n",
      " 4   Prevalence Rate (%)                 1000000 non-null  float64\n",
      " 5   Incidence Rate (%)                  1000000 non-null  float64\n",
      " 6   Mortality Rate (%)                  1000000 non-null  float64\n",
      " 7   Age Group                           1000000 non-null  object \n",
      " 8   Gender                              1000000 non-null  object \n",
      " 9   Population Affected                 1000000 non-null  int64  \n",
      " 10  Healthcare Access (%)               1000000 non-null  float64\n",
      " 11  Doctors per 1000                    1000000 non-null  float64\n",
      " 12  Hospital Beds per 1000              1000000 non-null  float64\n",
      " 13  Treatment Type                      1000000 non-null  object \n",
      " 14  Average Treatment Cost (USD)        1000000 non-null  int64  \n",
      " 15  Availability of Vaccines/Treatment  1000000 non-null  object \n",
      " 16  Recovery Rate (%)                   1000000 non-null  float64\n",
      " 17  DALYs                               1000000 non-null  int64  \n",
      " 18  Improvement in 5 Years (%)          1000000 non-null  float64\n",
      " 19  Per Capita Income (USD)             1000000 non-null  int64  \n",
      " 20  Education Index                     1000000 non-null  float64\n",
      " 21  Urbanization Rate (%)               1000000 non-null  float64\n",
      "dtypes: float64(10), int64(5), object(7)\n",
      "memory usage: 167.8+ MB\n"
     ]
    },
    {
     "data": {
      "text/plain": [
       "Country                               0\n",
       "Year                                  0\n",
       "Disease Name                          0\n",
       "Disease Category                      0\n",
       "Prevalence Rate (%)                   0\n",
       "Incidence Rate (%)                    0\n",
       "Mortality Rate (%)                    0\n",
       "Age Group                             0\n",
       "Gender                                0\n",
       "Population Affected                   0\n",
       "Healthcare Access (%)                 0\n",
       "Doctors per 1000                      0\n",
       "Hospital Beds per 1000                0\n",
       "Treatment Type                        0\n",
       "Average Treatment Cost (USD)          0\n",
       "Availability of Vaccines/Treatment    0\n",
       "Recovery Rate (%)                     0\n",
       "DALYs                                 0\n",
       "Improvement in 5 Years (%)            0\n",
       "Per Capita Income (USD)               0\n",
       "Education Index                       0\n",
       "Urbanization Rate (%)                 0\n",
       "dtype: int64"
      ]
     },
     "execution_count": 10,
     "metadata": {},
     "output_type": "execute_result"
    }
   ],
   "source": [
    "health_df.info()\n",
    "\n",
    "health_df.describe()\n",
    "\n",
    "health_df.isnull().sum()"
   ]
  },
  {
   "cell_type": "code",
   "execution_count": null,
   "metadata": {},
   "outputs": [],
   "source": []
  },
  {
   "cell_type": "code",
   "execution_count": null,
   "metadata": {},
   "outputs": [],
   "source": []
  },
  {
   "cell_type": "code",
   "execution_count": null,
   "metadata": {},
   "outputs": [],
   "source": []
  },
  {
   "cell_type": "code",
   "execution_count": null,
   "metadata": {},
   "outputs": [],
   "source": []
  },
  {
   "cell_type": "code",
   "execution_count": null,
   "metadata": {},
   "outputs": [],
   "source": []
  },
  {
   "cell_type": "code",
   "execution_count": null,
   "metadata": {},
   "outputs": [],
   "source": []
  },
  {
   "cell_type": "code",
   "execution_count": null,
   "metadata": {},
   "outputs": [],
   "source": []
  },
  {
   "cell_type": "code",
   "execution_count": null,
   "metadata": {},
   "outputs": [],
   "source": []
  }
 ],
 "metadata": {
  "kernelspec": {
   "display_name": "Python 3",
   "language": "python",
   "name": "python3"
  },
  "language_info": {
   "codemirror_mode": {
    "name": "ipython",
    "version": 3
   },
   "file_extension": ".py",
   "mimetype": "text/x-python",
   "name": "python",
   "nbconvert_exporter": "python",
   "pygments_lexer": "ipython3",
   "version": "3.12.8"
  }
 },
 "nbformat": 4,
 "nbformat_minor": 2
}
